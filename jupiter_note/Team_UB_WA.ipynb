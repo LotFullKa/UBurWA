{
 "cells": [
  {
   "cell_type": "markdown",
   "source": [
    "# Здесь вы можете увидеть решение нашей команды"
   ],
   "metadata": {
    "collapsed": false
   }
  },
  {
   "cell_type": "code",
   "execution_count": 19,
   "metadata": {},
   "outputs": [],
   "source": [
    "import pandas as pd\n",
    "import numpy as np\n",
    "import matplotlib as pl\n",
    "import sqlite3 as sql"
   ]
  },
  {
   "cell_type": "code",
   "execution_count": 20,
   "metadata": {},
   "outputs": [],
   "source": [
    "october_data = pd.read_csv(\"discount_for_202010.csv\", sep=';', comment='#', encoding='utf-8')\n",
    "customers = pd.read_csv(\"md_customers.csv\", sep=';', comment='#', encoding = 'cp1251')\n",
    "sales = pd.read_csv(\"sales_data.csv\", sep=\";\")"
   ]
  },
  {
   "cell_type": "code",
   "execution_count": 21,
   "metadata": {},
   "outputs": [],
   "source": [
    "#fixing columns\n",
    "october_data['PGI_DATE'] = pd.to_datetime(october_data['PGI_DATE'], format = '%Y%m%d')\n",
    "sales['PGI_DATE'] = pd.to_datetime(sales['PGI_DATE'], format = '%Y%m%d')\n",
    "\n",
    "# october_data['SHIP_TO'] = october_data['SHIP_TO'].apply(lambda x: int(x, 16))\n",
    "# october_data['SKU'] = october_data['SKU'].apply(lambda x: int(x, 16))\n",
    "\n",
    "# sales['SHIP_TO'] = sales['SHIP_TO'].apply(lambda x: int(x, 16))\n",
    "# sales['SKU'] = sales['SKU'].apply(lambda x: int(x, 16))\n",
    "\n",
    "if (type(sales['VOL'][0]) == str):\n",
    "    sales['VOL'] = sales['VOL'].str.replace(',', '.').astype(float)\n",
    "if (type(october_data['DISCOUNT'][0]) == str):\n",
    "    october_data['DISCOUNT'] = october_data['DISCOUNT'].str.replace(',', '.').astype(float)"
   ]
  },
  {
   "cell_type": "code",
   "execution_count": 22,
   "metadata": {},
   "outputs": [
    {
     "data": {
      "text/plain": "        PGI_DATE                           SHIP_TO  \\\n0     2020-10-01  5CF75D24155048112638F87DB1D1226C   \n1     2020-10-01  5CF75D24155048112638F87DB1D1226C   \n2     2020-10-01  5CF75D24155048112638F87DB1D1226C   \n3     2020-10-01  5CF75D24155048112638F87DB1D1226C   \n4     2020-10-01  5CF75D24155048112638F87DB1D1226C   \n...          ...                               ...   \n57640 2020-10-30  FC81E17774E555008D02A4D8D697AAF6   \n57641 2020-10-30  FC81E17774E555008D02A4D8D697AAF6   \n57642 2020-10-30  FC81E17774E555008D02A4D8D697AAF6   \n57643 2020-10-30  FC81E17774E555008D02A4D8D697AAF6   \n57644 2020-10-30  FC81E17774E555008D02A4D8D697AAF6   \n\n                                    SKU  DISCOUNT  \n0      7DFA4250D2207EEB61883DDF5B67A1A7     22.00  \n1      F2B3E6A656C805BF1CEB1FC5734E7622     20.00  \n2      8266B80A417D8DF4267AA877838FBBFA     20.00  \n3      37E9B839EEB8B2D3C484E37C548DCCAE     22.00  \n4      32CD0B3CFED084C5C03F6AAFA0BB8D13     22.00  \n...                                 ...       ...  \n57640  620CF34A42D15DEC58FF09697700AA63     15.61  \n57641  65213079F85E2832DC71E5EEE3C09D6B     19.96  \n57642  B0823E75BDA4AC493CF30862C2B977EF     31.00  \n57643  F0281CEE08E07B19738CE6C21D01963F     21.00  \n57644  2FCE67D5A92E7A0C4273C9F2AD11FC1C     25.00  \n\n[57645 rows x 4 columns]",
      "text/html": "<div>\n<style scoped>\n    .dataframe tbody tr th:only-of-type {\n        vertical-align: middle;\n    }\n\n    .dataframe tbody tr th {\n        vertical-align: top;\n    }\n\n    .dataframe thead th {\n        text-align: right;\n    }\n</style>\n<table border=\"1\" class=\"dataframe\">\n  <thead>\n    <tr style=\"text-align: right;\">\n      <th></th>\n      <th>PGI_DATE</th>\n      <th>SHIP_TO</th>\n      <th>SKU</th>\n      <th>DISCOUNT</th>\n    </tr>\n  </thead>\n  <tbody>\n    <tr>\n      <th>0</th>\n      <td>2020-10-01</td>\n      <td>5CF75D24155048112638F87DB1D1226C</td>\n      <td>7DFA4250D2207EEB61883DDF5B67A1A7</td>\n      <td>22.00</td>\n    </tr>\n    <tr>\n      <th>1</th>\n      <td>2020-10-01</td>\n      <td>5CF75D24155048112638F87DB1D1226C</td>\n      <td>F2B3E6A656C805BF1CEB1FC5734E7622</td>\n      <td>20.00</td>\n    </tr>\n    <tr>\n      <th>2</th>\n      <td>2020-10-01</td>\n      <td>5CF75D24155048112638F87DB1D1226C</td>\n      <td>8266B80A417D8DF4267AA877838FBBFA</td>\n      <td>20.00</td>\n    </tr>\n    <tr>\n      <th>3</th>\n      <td>2020-10-01</td>\n      <td>5CF75D24155048112638F87DB1D1226C</td>\n      <td>37E9B839EEB8B2D3C484E37C548DCCAE</td>\n      <td>22.00</td>\n    </tr>\n    <tr>\n      <th>4</th>\n      <td>2020-10-01</td>\n      <td>5CF75D24155048112638F87DB1D1226C</td>\n      <td>32CD0B3CFED084C5C03F6AAFA0BB8D13</td>\n      <td>22.00</td>\n    </tr>\n    <tr>\n      <th>...</th>\n      <td>...</td>\n      <td>...</td>\n      <td>...</td>\n      <td>...</td>\n    </tr>\n    <tr>\n      <th>57640</th>\n      <td>2020-10-30</td>\n      <td>FC81E17774E555008D02A4D8D697AAF6</td>\n      <td>620CF34A42D15DEC58FF09697700AA63</td>\n      <td>15.61</td>\n    </tr>\n    <tr>\n      <th>57641</th>\n      <td>2020-10-30</td>\n      <td>FC81E17774E555008D02A4D8D697AAF6</td>\n      <td>65213079F85E2832DC71E5EEE3C09D6B</td>\n      <td>19.96</td>\n    </tr>\n    <tr>\n      <th>57642</th>\n      <td>2020-10-30</td>\n      <td>FC81E17774E555008D02A4D8D697AAF6</td>\n      <td>B0823E75BDA4AC493CF30862C2B977EF</td>\n      <td>31.00</td>\n    </tr>\n    <tr>\n      <th>57643</th>\n      <td>2020-10-30</td>\n      <td>FC81E17774E555008D02A4D8D697AAF6</td>\n      <td>F0281CEE08E07B19738CE6C21D01963F</td>\n      <td>21.00</td>\n    </tr>\n    <tr>\n      <th>57644</th>\n      <td>2020-10-30</td>\n      <td>FC81E17774E555008D02A4D8D697AAF6</td>\n      <td>2FCE67D5A92E7A0C4273C9F2AD11FC1C</td>\n      <td>25.00</td>\n    </tr>\n  </tbody>\n</table>\n<p>57645 rows × 4 columns</p>\n</div>"
     },
     "execution_count": 22,
     "metadata": {},
     "output_type": "execute_result"
    }
   ],
   "source": [
    "october_data"
   ]
  },
  {
   "cell_type": "code",
   "execution_count": 23,
   "metadata": {},
   "outputs": [
    {
     "data": {
      "text/plain": "         PGI_DATE                           SHIP_TO  \\\n0      2019-04-01  0025D90699DB5080150F0CF48DD1893E   \n1      2019-04-01  0025D90699DB5080150F0CF48DD1893E   \n2      2019-04-01  0025D90699DB5080150F0CF48DD1893E   \n3      2019-04-01  0025D90699DB5080150F0CF48DD1893E   \n4      2019-04-01  0025D90699DB5080150F0CF48DD1893E   \n...           ...                               ...   \n946582 2020-04-30  FDE730A2CC12A0A83F25E13860A831F8   \n946583 2020-04-30  FF4164A314FE16FA6752954835E44061   \n946584 2020-04-30  FF4164A314FE16FA6752954835E44061   \n946585 2020-04-30  FF4164A314FE16FA6752954835E44061   \n946586 2020-04-30  FF4164A314FE16FA6752954835E44061   \n\n                                     SKU        VOL DISCOUNT  \n0       02F67F20D3E7CFB0AB7F15DF72C65A9A  180.48720      NaN  \n1       090FFEA4BAF99F279A34AFFCD9421379   24.30360      NaN  \n2       1E67A23D1F1D65B8450CC03F9C6871C7    7.91280      NaN  \n3       1ECD1812B9FEABA0553E69ACCEECF54F    9.42000      NaN  \n4       1FB5AE8891CF6A8B1D32D3F1121B34F2  175.21200      NaN  \n...                                  ...        ...      ...  \n946582  27D58363354F686E5B3AADAC379D4F34   -3.88104      NaN  \n946583  8D6BF8B63FD1C298BB2F319D09833A77  197.82000      NaN  \n946584  ACA7B2EA935B16E77ED105BD91C9A1DC   84.78000      NaN  \n946585  EB0B331C773E9CF898D652ACBF59B12B   83.08440      NaN  \n946586  F4AA79EAA6194AE33EA2A5712361FCBC  197.82000      NaN  \n\n[946587 rows x 5 columns]",
      "text/html": "<div>\n<style scoped>\n    .dataframe tbody tr th:only-of-type {\n        vertical-align: middle;\n    }\n\n    .dataframe tbody tr th {\n        vertical-align: top;\n    }\n\n    .dataframe thead th {\n        text-align: right;\n    }\n</style>\n<table border=\"1\" class=\"dataframe\">\n  <thead>\n    <tr style=\"text-align: right;\">\n      <th></th>\n      <th>PGI_DATE</th>\n      <th>SHIP_TO</th>\n      <th>SKU</th>\n      <th>VOL</th>\n      <th>DISCOUNT</th>\n    </tr>\n  </thead>\n  <tbody>\n    <tr>\n      <th>0</th>\n      <td>2019-04-01</td>\n      <td>0025D90699DB5080150F0CF48DD1893E</td>\n      <td>02F67F20D3E7CFB0AB7F15DF72C65A9A</td>\n      <td>180.48720</td>\n      <td>NaN</td>\n    </tr>\n    <tr>\n      <th>1</th>\n      <td>2019-04-01</td>\n      <td>0025D90699DB5080150F0CF48DD1893E</td>\n      <td>090FFEA4BAF99F279A34AFFCD9421379</td>\n      <td>24.30360</td>\n      <td>NaN</td>\n    </tr>\n    <tr>\n      <th>2</th>\n      <td>2019-04-01</td>\n      <td>0025D90699DB5080150F0CF48DD1893E</td>\n      <td>1E67A23D1F1D65B8450CC03F9C6871C7</td>\n      <td>7.91280</td>\n      <td>NaN</td>\n    </tr>\n    <tr>\n      <th>3</th>\n      <td>2019-04-01</td>\n      <td>0025D90699DB5080150F0CF48DD1893E</td>\n      <td>1ECD1812B9FEABA0553E69ACCEECF54F</td>\n      <td>9.42000</td>\n      <td>NaN</td>\n    </tr>\n    <tr>\n      <th>4</th>\n      <td>2019-04-01</td>\n      <td>0025D90699DB5080150F0CF48DD1893E</td>\n      <td>1FB5AE8891CF6A8B1D32D3F1121B34F2</td>\n      <td>175.21200</td>\n      <td>NaN</td>\n    </tr>\n    <tr>\n      <th>...</th>\n      <td>...</td>\n      <td>...</td>\n      <td>...</td>\n      <td>...</td>\n      <td>...</td>\n    </tr>\n    <tr>\n      <th>946582</th>\n      <td>2020-04-30</td>\n      <td>FDE730A2CC12A0A83F25E13860A831F8</td>\n      <td>27D58363354F686E5B3AADAC379D4F34</td>\n      <td>-3.88104</td>\n      <td>NaN</td>\n    </tr>\n    <tr>\n      <th>946583</th>\n      <td>2020-04-30</td>\n      <td>FF4164A314FE16FA6752954835E44061</td>\n      <td>8D6BF8B63FD1C298BB2F319D09833A77</td>\n      <td>197.82000</td>\n      <td>NaN</td>\n    </tr>\n    <tr>\n      <th>946584</th>\n      <td>2020-04-30</td>\n      <td>FF4164A314FE16FA6752954835E44061</td>\n      <td>ACA7B2EA935B16E77ED105BD91C9A1DC</td>\n      <td>84.78000</td>\n      <td>NaN</td>\n    </tr>\n    <tr>\n      <th>946585</th>\n      <td>2020-04-30</td>\n      <td>FF4164A314FE16FA6752954835E44061</td>\n      <td>EB0B331C773E9CF898D652ACBF59B12B</td>\n      <td>83.08440</td>\n      <td>NaN</td>\n    </tr>\n    <tr>\n      <th>946586</th>\n      <td>2020-04-30</td>\n      <td>FF4164A314FE16FA6752954835E44061</td>\n      <td>F4AA79EAA6194AE33EA2A5712361FCBC</td>\n      <td>197.82000</td>\n      <td>NaN</td>\n    </tr>\n  </tbody>\n</table>\n<p>946587 rows × 5 columns</p>\n</div>"
     },
     "execution_count": 23,
     "metadata": {},
     "output_type": "execute_result"
    }
   ],
   "source": [
    "sales"
   ]
  },
  {
   "cell_type": "code",
   "execution_count": 24,
   "metadata": {},
   "outputs": [
    {
     "data": {
      "text/plain": "                               SHIP_TO SALES_DISTRICT SALES_OFFICE  \\\n0     6B7CEEFAAE1027BDAD99F2C96119FE87     Дивизион 7     Город 16   \n1     81752EA1CF02C19CC7B55561FFE0C760     Дивизион 7     Город 16   \n2     706155A5C878094F242F042F11C16B1A     Дивизион 7     Город 16   \n3     15D49593D9E57DA1491C91AEAD310E09     Дивизион 5     Город 24   \n4     BA2A9FC607C7036B55C7055AB0D727B6     Дивизион 2     Город 14   \n...                                ...            ...          ...   \n1268  D1254EE75E94D92A2B456AA8F29BA9DE     Дивизион 2     Город 17   \n1269  B98406DC1322BE399E982D38E28AE2D1     Дивизион 2     Город 17   \n1270  8BDD4F8D14144D7218B3CCC9C44616DC     Дивизион 5     Город 24   \n1271  2579A834889B701006A94BA046ADEABF     Дивизион 5     Город 24   \n1272  EB5A9EA6B2AA4ED53468C966C0C0907E     Дивизион 6     Город 10   \n\n     SALES_GROUP      CUST_GRP       PROXI_CATEG2 PROXI_CATEG3 TERR_LVL2  \\\n0     Филиал 173  Формат ТТ 56   Торговая сеть 67        E-COM  Регион 5   \n1     Филиал 173  Формат ТТ 56   Торговая сеть 67        E-COM  Регион 5   \n2     Филиал 173  Формат ТТ 56   Торговая сеть 67        E-COM  Регион 5   \n3      Филиал 15  Формат ТТ 56   Торговая сеть 67        E-COM  Регион 4   \n4     Филиал 136   Формат ТТ 4  Торговая сеть 125     INDIRECT  Регион 7   \n...          ...           ...                ...          ...       ...   \n1268   Филиал 84   Формат ТТ 3  Торговая сеть 726     INDIRECT  Регион 7   \n1269   Филиал 84   Формат ТТ 3  Торговая сеть 726     INDIRECT  Регион 7   \n1270  Филиал 103   Формат ТТ 3  Торговая сеть 728     INDIRECT  Регион 4   \n1271  Филиал 103   Формат ТТ 3  Торговая сеть 728     INDIRECT  Регион 4   \n1272  Филиал 167   Формат ТТ 3  Торговая сеть 730     INDIRECT  Регион 3   \n\n       TERR_LVL3  \n0     Область 10  \n1     Область 10  \n2     Область 10  \n3     Область 13  \n4      Область 4  \n...          ...  \n1268   Область 9  \n1269   Область 9  \n1270  Область 13  \n1271  Область 13  \n1272   Область 5  \n\n[1273 rows x 9 columns]",
      "text/html": "<div>\n<style scoped>\n    .dataframe tbody tr th:only-of-type {\n        vertical-align: middle;\n    }\n\n    .dataframe tbody tr th {\n        vertical-align: top;\n    }\n\n    .dataframe thead th {\n        text-align: right;\n    }\n</style>\n<table border=\"1\" class=\"dataframe\">\n  <thead>\n    <tr style=\"text-align: right;\">\n      <th></th>\n      <th>SHIP_TO</th>\n      <th>SALES_DISTRICT</th>\n      <th>SALES_OFFICE</th>\n      <th>SALES_GROUP</th>\n      <th>CUST_GRP</th>\n      <th>PROXI_CATEG2</th>\n      <th>PROXI_CATEG3</th>\n      <th>TERR_LVL2</th>\n      <th>TERR_LVL3</th>\n    </tr>\n  </thead>\n  <tbody>\n    <tr>\n      <th>0</th>\n      <td>6B7CEEFAAE1027BDAD99F2C96119FE87</td>\n      <td>Дивизион 7</td>\n      <td>Город 16</td>\n      <td>Филиал 173</td>\n      <td>Формат ТТ 56</td>\n      <td>Торговая сеть 67</td>\n      <td>E-COM</td>\n      <td>Регион 5</td>\n      <td>Область 10</td>\n    </tr>\n    <tr>\n      <th>1</th>\n      <td>81752EA1CF02C19CC7B55561FFE0C760</td>\n      <td>Дивизион 7</td>\n      <td>Город 16</td>\n      <td>Филиал 173</td>\n      <td>Формат ТТ 56</td>\n      <td>Торговая сеть 67</td>\n      <td>E-COM</td>\n      <td>Регион 5</td>\n      <td>Область 10</td>\n    </tr>\n    <tr>\n      <th>2</th>\n      <td>706155A5C878094F242F042F11C16B1A</td>\n      <td>Дивизион 7</td>\n      <td>Город 16</td>\n      <td>Филиал 173</td>\n      <td>Формат ТТ 56</td>\n      <td>Торговая сеть 67</td>\n      <td>E-COM</td>\n      <td>Регион 5</td>\n      <td>Область 10</td>\n    </tr>\n    <tr>\n      <th>3</th>\n      <td>15D49593D9E57DA1491C91AEAD310E09</td>\n      <td>Дивизион 5</td>\n      <td>Город 24</td>\n      <td>Филиал 15</td>\n      <td>Формат ТТ 56</td>\n      <td>Торговая сеть 67</td>\n      <td>E-COM</td>\n      <td>Регион 4</td>\n      <td>Область 13</td>\n    </tr>\n    <tr>\n      <th>4</th>\n      <td>BA2A9FC607C7036B55C7055AB0D727B6</td>\n      <td>Дивизион 2</td>\n      <td>Город 14</td>\n      <td>Филиал 136</td>\n      <td>Формат ТТ 4</td>\n      <td>Торговая сеть 125</td>\n      <td>INDIRECT</td>\n      <td>Регион 7</td>\n      <td>Область 4</td>\n    </tr>\n    <tr>\n      <th>...</th>\n      <td>...</td>\n      <td>...</td>\n      <td>...</td>\n      <td>...</td>\n      <td>...</td>\n      <td>...</td>\n      <td>...</td>\n      <td>...</td>\n      <td>...</td>\n    </tr>\n    <tr>\n      <th>1268</th>\n      <td>D1254EE75E94D92A2B456AA8F29BA9DE</td>\n      <td>Дивизион 2</td>\n      <td>Город 17</td>\n      <td>Филиал 84</td>\n      <td>Формат ТТ 3</td>\n      <td>Торговая сеть 726</td>\n      <td>INDIRECT</td>\n      <td>Регион 7</td>\n      <td>Область 9</td>\n    </tr>\n    <tr>\n      <th>1269</th>\n      <td>B98406DC1322BE399E982D38E28AE2D1</td>\n      <td>Дивизион 2</td>\n      <td>Город 17</td>\n      <td>Филиал 84</td>\n      <td>Формат ТТ 3</td>\n      <td>Торговая сеть 726</td>\n      <td>INDIRECT</td>\n      <td>Регион 7</td>\n      <td>Область 9</td>\n    </tr>\n    <tr>\n      <th>1270</th>\n      <td>8BDD4F8D14144D7218B3CCC9C44616DC</td>\n      <td>Дивизион 5</td>\n      <td>Город 24</td>\n      <td>Филиал 103</td>\n      <td>Формат ТТ 3</td>\n      <td>Торговая сеть 728</td>\n      <td>INDIRECT</td>\n      <td>Регион 4</td>\n      <td>Область 13</td>\n    </tr>\n    <tr>\n      <th>1271</th>\n      <td>2579A834889B701006A94BA046ADEABF</td>\n      <td>Дивизион 5</td>\n      <td>Город 24</td>\n      <td>Филиал 103</td>\n      <td>Формат ТТ 3</td>\n      <td>Торговая сеть 728</td>\n      <td>INDIRECT</td>\n      <td>Регион 4</td>\n      <td>Область 13</td>\n    </tr>\n    <tr>\n      <th>1272</th>\n      <td>EB5A9EA6B2AA4ED53468C966C0C0907E</td>\n      <td>Дивизион 6</td>\n      <td>Город 10</td>\n      <td>Филиал 167</td>\n      <td>Формат ТТ 3</td>\n      <td>Торговая сеть 730</td>\n      <td>INDIRECT</td>\n      <td>Регион 3</td>\n      <td>Область 5</td>\n    </tr>\n  </tbody>\n</table>\n<p>1273 rows × 9 columns</p>\n</div>"
     },
     "execution_count": 24,
     "metadata": {},
     "output_type": "execute_result"
    }
   ],
   "source": [
    "customers"
   ]
  },
  {
   "cell_type": "markdown",
   "metadata": {},
   "source": [
    "# Расчет дистрибуции"
   ]
  },
  {
   "cell_type": "markdown",
   "source": [
    "### Скрипты для подсчета вспомогательной базы"
   ],
   "metadata": {
    "collapsed": false
   }
  },
  {
   "cell_type": "code",
   "execution_count": 25,
   "outputs": [],
   "source": [
    "create_script = \"\"\"\n",
    "        CREATE TABLE IF NOT EXISTS VW_JDLV_SALES(\n",
    "        PGI_DATE DATE,\n",
    "        SHIP_TO VARCHAR(32),\n",
    "        SKU VARCHAR(32),\n",
    "        VOL REAL,\n",
    "        DISCOUNT NUMBER);\n",
    "\n",
    "        CREATE TABLE IF NOT EXISTS MD_CUSTOMERS (\n",
    "        SHIP_TO VARCHAR(32),\n",
    "        SALES_DISTRICT VARCHAR(32),\n",
    "        SALES_OFFICE VARCHAR(32),\n",
    "        SALES_GROUP VARCHAR(32),\n",
    "        RETAIL_CHAIN VARCHAR(32),\n",
    "        CUST_GRP VARCHAR(32),\n",
    "        PROXI_CATEG2 VARCHAR(32) DEFAULT '##',\n",
    "        PROXI_CATEG3 VARCHAR(32) DEFAULT '##',\n",
    "        TERR_LVL2 VARCHAR(32) DEFAULT '##',\n",
    "        TERR_LVL3 VARCHAR(32) DEFAULT '##'); \"\"\"\n",
    "\n",
    "all_sales_tables_script = \"\"\"\n",
    "        CREATE TABLE IF NOT EXISTS all_sales AS\n",
    "        SELECT\n",
    "        SALES_DISTRICT,\n",
    "        SALES_OFFICE,\n",
    "        SALES_GROUP,\n",
    "        MD_CUSTOMERS.TERR_LVL2,\n",
    "        MD_CUSTOMERS.TERR_LVL3,\n",
    "        count(MD_CUSTOMERS.SHIP_TO) AS ALVAL,\n",
    "        sum(VW_JDLV_SALES.VOL) AS ALVOL\n",
    "        FROM MD_CUSTOMERS\n",
    "        JOIN VW_JDLV_SALES ON MD_CUSTOMERS.SHIP_TO = VW_JDLV_SALES.SHIP_TO\n",
    "        WHERE VW_JDLV_SALES.VOL > 0\n",
    "        GROUP BY\n",
    "        SALES_DISTRICT,\n",
    "        SALES_OFFICE,\n",
    "        SALES_GROUP,\n",
    "        MD_CUSTOMERS.TERR_LVL2,\n",
    "        MD_CUSTOMERS.TERR_LVL3;\"\"\"\n",
    "\n",
    "sku_sales_table_script = \"\"\"\n",
    "        CREATE TABLE IF NOT EXISTS sku_sales AS\n",
    "        SELECT\n",
    "        SALES_DISTRICT,\n",
    "        SALES_OFFICE,\n",
    "        SALES_GROUP,\n",
    "        MD_CUSTOMERS.TERR_LVL2,\n",
    "        MD_CUSTOMERS.TERR_LVL3,\n",
    "        VW_JDLV_SALES.SKU,\n",
    "        count(MD_CUSTOMERS.SHIP_TO) AS SKUVAL,\n",
    "        sum(VW_JDLV_SALES.VOL) AS SKUVOL\n",
    "        FROM MD_CUSTOMERS\n",
    "        JOIN VW_JDLV_SALES ON MD_CUSTOMERS.SHIP_TO = VW_JDLV_SALES.SHIP_TO\n",
    "        WHERE VW_JDLV_SALES.VOL > 0\n",
    "        GROUP BY\n",
    "        SALES_DISTRICT,\n",
    "        SALES_OFFICE,\n",
    "        SALES_GROUP,\n",
    "        MD_CUSTOMERS.TERR_LVL2,\n",
    "        MD_CUSTOMERS.TERR_LVL3,\n",
    "        VW_JDLV_SALES.SKU;\"\"\""
   ],
   "metadata": {
    "collapsed": false,
    "pycharm": {
     "name": "#%%\n"
    }
   }
  },
  {
   "cell_type": "code",
   "execution_count": 26,
   "metadata": {},
   "outputs": [],
   "source": [
    "db = sql.connect('UB_WA.db')\n",
    "with db:\n",
    "    #creating MD_CUSTOMERS and VW_JDLV_SALES\n",
    "    current = db.cursor()\n",
    "    current.executescript(create_script)\n",
    "    \n",
    "    #reading and moving MD_CUSTOMERS and VW_JDLV_SALES\n",
    "    customers.to_sql('MD_CUSTOMERS', db, if_exists='replace', index=False)\n",
    "    sales.to_sql('VW_JDLV_SALES', db, if_exists='replace', index=False)\n",
    "    \n",
    "    \n",
    "    #help table. Count active dots with group by territiry\n",
    "\n",
    "    # if you want to reset this table use the next line\n",
    "    current.execute(\"DROP TABLE IF EXISTS all_sales\")\n",
    "    current.execute(\n",
    "        all_sales_tables_script\n",
    "    )\n",
    "    \n",
    "    \n",
    "    #help table. doing same as prev. but for sku_sales\n",
    "\n",
    "    # if you want to reset this table use the next line\n",
    "    current.execute(\"DROP TABLE IF EXISTS sku_sales\")\n",
    "    current.execute(\n",
    "        sku_sales_table_script\n",
    "    )"
   ]
  },
  {
   "cell_type": "code",
   "execution_count": 27,
   "metadata": {},
   "outputs": [],
   "source": [
    "content = sql.connect(\"UB_WA.db\")\n",
    "VW_JDLV_SALES = pd.read_sql(\"SELECT * from VW_JDLV_SALES\", content)\n",
    "MD_CUSTOMERS = pd.read_sql(\"SELECT * from MD_CUSTOMERS\", content)"
   ]
  },
  {
   "cell_type": "markdown",
   "metadata": {},
   "source": [
    "### Полученные таблицы VW_JDLV_SALES и MD_CUSTOMERS"
   ]
  },
  {
   "cell_type": "code",
   "execution_count": 28,
   "metadata": {},
   "outputs": [
    {
     "data": {
      "text/plain": "                   PGI_DATE                           SHIP_TO  \\\n0       2019-04-01 00:00:00  0025D90699DB5080150F0CF48DD1893E   \n1       2019-04-01 00:00:00  0025D90699DB5080150F0CF48DD1893E   \n2       2019-04-01 00:00:00  0025D90699DB5080150F0CF48DD1893E   \n3       2019-04-01 00:00:00  0025D90699DB5080150F0CF48DD1893E   \n4       2019-04-01 00:00:00  0025D90699DB5080150F0CF48DD1893E   \n...                     ...                               ...   \n946582  2020-04-30 00:00:00  FDE730A2CC12A0A83F25E13860A831F8   \n946583  2020-04-30 00:00:00  FF4164A314FE16FA6752954835E44061   \n946584  2020-04-30 00:00:00  FF4164A314FE16FA6752954835E44061   \n946585  2020-04-30 00:00:00  FF4164A314FE16FA6752954835E44061   \n946586  2020-04-30 00:00:00  FF4164A314FE16FA6752954835E44061   \n\n                                     SKU        VOL DISCOUNT  \n0       02F67F20D3E7CFB0AB7F15DF72C65A9A  180.48720     None  \n1       090FFEA4BAF99F279A34AFFCD9421379   24.30360     None  \n2       1E67A23D1F1D65B8450CC03F9C6871C7    7.91280     None  \n3       1ECD1812B9FEABA0553E69ACCEECF54F    9.42000     None  \n4       1FB5AE8891CF6A8B1D32D3F1121B34F2  175.21200     None  \n...                                  ...        ...      ...  \n946582  27D58363354F686E5B3AADAC379D4F34   -3.88104     None  \n946583  8D6BF8B63FD1C298BB2F319D09833A77  197.82000     None  \n946584  ACA7B2EA935B16E77ED105BD91C9A1DC   84.78000     None  \n946585  EB0B331C773E9CF898D652ACBF59B12B   83.08440     None  \n946586  F4AA79EAA6194AE33EA2A5712361FCBC  197.82000     None  \n\n[946587 rows x 5 columns]",
      "text/html": "<div>\n<style scoped>\n    .dataframe tbody tr th:only-of-type {\n        vertical-align: middle;\n    }\n\n    .dataframe tbody tr th {\n        vertical-align: top;\n    }\n\n    .dataframe thead th {\n        text-align: right;\n    }\n</style>\n<table border=\"1\" class=\"dataframe\">\n  <thead>\n    <tr style=\"text-align: right;\">\n      <th></th>\n      <th>PGI_DATE</th>\n      <th>SHIP_TO</th>\n      <th>SKU</th>\n      <th>VOL</th>\n      <th>DISCOUNT</th>\n    </tr>\n  </thead>\n  <tbody>\n    <tr>\n      <th>0</th>\n      <td>2019-04-01 00:00:00</td>\n      <td>0025D90699DB5080150F0CF48DD1893E</td>\n      <td>02F67F20D3E7CFB0AB7F15DF72C65A9A</td>\n      <td>180.48720</td>\n      <td>None</td>\n    </tr>\n    <tr>\n      <th>1</th>\n      <td>2019-04-01 00:00:00</td>\n      <td>0025D90699DB5080150F0CF48DD1893E</td>\n      <td>090FFEA4BAF99F279A34AFFCD9421379</td>\n      <td>24.30360</td>\n      <td>None</td>\n    </tr>\n    <tr>\n      <th>2</th>\n      <td>2019-04-01 00:00:00</td>\n      <td>0025D90699DB5080150F0CF48DD1893E</td>\n      <td>1E67A23D1F1D65B8450CC03F9C6871C7</td>\n      <td>7.91280</td>\n      <td>None</td>\n    </tr>\n    <tr>\n      <th>3</th>\n      <td>2019-04-01 00:00:00</td>\n      <td>0025D90699DB5080150F0CF48DD1893E</td>\n      <td>1ECD1812B9FEABA0553E69ACCEECF54F</td>\n      <td>9.42000</td>\n      <td>None</td>\n    </tr>\n    <tr>\n      <th>4</th>\n      <td>2019-04-01 00:00:00</td>\n      <td>0025D90699DB5080150F0CF48DD1893E</td>\n      <td>1FB5AE8891CF6A8B1D32D3F1121B34F2</td>\n      <td>175.21200</td>\n      <td>None</td>\n    </tr>\n    <tr>\n      <th>...</th>\n      <td>...</td>\n      <td>...</td>\n      <td>...</td>\n      <td>...</td>\n      <td>...</td>\n    </tr>\n    <tr>\n      <th>946582</th>\n      <td>2020-04-30 00:00:00</td>\n      <td>FDE730A2CC12A0A83F25E13860A831F8</td>\n      <td>27D58363354F686E5B3AADAC379D4F34</td>\n      <td>-3.88104</td>\n      <td>None</td>\n    </tr>\n    <tr>\n      <th>946583</th>\n      <td>2020-04-30 00:00:00</td>\n      <td>FF4164A314FE16FA6752954835E44061</td>\n      <td>8D6BF8B63FD1C298BB2F319D09833A77</td>\n      <td>197.82000</td>\n      <td>None</td>\n    </tr>\n    <tr>\n      <th>946584</th>\n      <td>2020-04-30 00:00:00</td>\n      <td>FF4164A314FE16FA6752954835E44061</td>\n      <td>ACA7B2EA935B16E77ED105BD91C9A1DC</td>\n      <td>84.78000</td>\n      <td>None</td>\n    </tr>\n    <tr>\n      <th>946585</th>\n      <td>2020-04-30 00:00:00</td>\n      <td>FF4164A314FE16FA6752954835E44061</td>\n      <td>EB0B331C773E9CF898D652ACBF59B12B</td>\n      <td>83.08440</td>\n      <td>None</td>\n    </tr>\n    <tr>\n      <th>946586</th>\n      <td>2020-04-30 00:00:00</td>\n      <td>FF4164A314FE16FA6752954835E44061</td>\n      <td>F4AA79EAA6194AE33EA2A5712361FCBC</td>\n      <td>197.82000</td>\n      <td>None</td>\n    </tr>\n  </tbody>\n</table>\n<p>946587 rows × 5 columns</p>\n</div>"
     },
     "execution_count": 28,
     "metadata": {},
     "output_type": "execute_result"
    }
   ],
   "source": [
    "VW_JDLV_SALES"
   ]
  },
  {
   "cell_type": "code",
   "execution_count": 29,
   "metadata": {},
   "outputs": [
    {
     "data": {
      "text/plain": "                               SHIP_TO SALES_DISTRICT SALES_OFFICE  \\\n0     6B7CEEFAAE1027BDAD99F2C96119FE87     Дивизион 7     Город 16   \n1     81752EA1CF02C19CC7B55561FFE0C760     Дивизион 7     Город 16   \n2     706155A5C878094F242F042F11C16B1A     Дивизион 7     Город 16   \n3     15D49593D9E57DA1491C91AEAD310E09     Дивизион 5     Город 24   \n4     BA2A9FC607C7036B55C7055AB0D727B6     Дивизион 2     Город 14   \n...                                ...            ...          ...   \n1268  D1254EE75E94D92A2B456AA8F29BA9DE     Дивизион 2     Город 17   \n1269  B98406DC1322BE399E982D38E28AE2D1     Дивизион 2     Город 17   \n1270  8BDD4F8D14144D7218B3CCC9C44616DC     Дивизион 5     Город 24   \n1271  2579A834889B701006A94BA046ADEABF     Дивизион 5     Город 24   \n1272  EB5A9EA6B2AA4ED53468C966C0C0907E     Дивизион 6     Город 10   \n\n     SALES_GROUP      CUST_GRP       PROXI_CATEG2 PROXI_CATEG3 TERR_LVL2  \\\n0     Филиал 173  Формат ТТ 56   Торговая сеть 67        E-COM  Регион 5   \n1     Филиал 173  Формат ТТ 56   Торговая сеть 67        E-COM  Регион 5   \n2     Филиал 173  Формат ТТ 56   Торговая сеть 67        E-COM  Регион 5   \n3      Филиал 15  Формат ТТ 56   Торговая сеть 67        E-COM  Регион 4   \n4     Филиал 136   Формат ТТ 4  Торговая сеть 125     INDIRECT  Регион 7   \n...          ...           ...                ...          ...       ...   \n1268   Филиал 84   Формат ТТ 3  Торговая сеть 726     INDIRECT  Регион 7   \n1269   Филиал 84   Формат ТТ 3  Торговая сеть 726     INDIRECT  Регион 7   \n1270  Филиал 103   Формат ТТ 3  Торговая сеть 728     INDIRECT  Регион 4   \n1271  Филиал 103   Формат ТТ 3  Торговая сеть 728     INDIRECT  Регион 4   \n1272  Филиал 167   Формат ТТ 3  Торговая сеть 730     INDIRECT  Регион 3   \n\n       TERR_LVL3  \n0     Область 10  \n1     Область 10  \n2     Область 10  \n3     Область 13  \n4      Область 4  \n...          ...  \n1268   Область 9  \n1269   Область 9  \n1270  Область 13  \n1271  Область 13  \n1272   Область 5  \n\n[1273 rows x 9 columns]",
      "text/html": "<div>\n<style scoped>\n    .dataframe tbody tr th:only-of-type {\n        vertical-align: middle;\n    }\n\n    .dataframe tbody tr th {\n        vertical-align: top;\n    }\n\n    .dataframe thead th {\n        text-align: right;\n    }\n</style>\n<table border=\"1\" class=\"dataframe\">\n  <thead>\n    <tr style=\"text-align: right;\">\n      <th></th>\n      <th>SHIP_TO</th>\n      <th>SALES_DISTRICT</th>\n      <th>SALES_OFFICE</th>\n      <th>SALES_GROUP</th>\n      <th>CUST_GRP</th>\n      <th>PROXI_CATEG2</th>\n      <th>PROXI_CATEG3</th>\n      <th>TERR_LVL2</th>\n      <th>TERR_LVL3</th>\n    </tr>\n  </thead>\n  <tbody>\n    <tr>\n      <th>0</th>\n      <td>6B7CEEFAAE1027BDAD99F2C96119FE87</td>\n      <td>Дивизион 7</td>\n      <td>Город 16</td>\n      <td>Филиал 173</td>\n      <td>Формат ТТ 56</td>\n      <td>Торговая сеть 67</td>\n      <td>E-COM</td>\n      <td>Регион 5</td>\n      <td>Область 10</td>\n    </tr>\n    <tr>\n      <th>1</th>\n      <td>81752EA1CF02C19CC7B55561FFE0C760</td>\n      <td>Дивизион 7</td>\n      <td>Город 16</td>\n      <td>Филиал 173</td>\n      <td>Формат ТТ 56</td>\n      <td>Торговая сеть 67</td>\n      <td>E-COM</td>\n      <td>Регион 5</td>\n      <td>Область 10</td>\n    </tr>\n    <tr>\n      <th>2</th>\n      <td>706155A5C878094F242F042F11C16B1A</td>\n      <td>Дивизион 7</td>\n      <td>Город 16</td>\n      <td>Филиал 173</td>\n      <td>Формат ТТ 56</td>\n      <td>Торговая сеть 67</td>\n      <td>E-COM</td>\n      <td>Регион 5</td>\n      <td>Область 10</td>\n    </tr>\n    <tr>\n      <th>3</th>\n      <td>15D49593D9E57DA1491C91AEAD310E09</td>\n      <td>Дивизион 5</td>\n      <td>Город 24</td>\n      <td>Филиал 15</td>\n      <td>Формат ТТ 56</td>\n      <td>Торговая сеть 67</td>\n      <td>E-COM</td>\n      <td>Регион 4</td>\n      <td>Область 13</td>\n    </tr>\n    <tr>\n      <th>4</th>\n      <td>BA2A9FC607C7036B55C7055AB0D727B6</td>\n      <td>Дивизион 2</td>\n      <td>Город 14</td>\n      <td>Филиал 136</td>\n      <td>Формат ТТ 4</td>\n      <td>Торговая сеть 125</td>\n      <td>INDIRECT</td>\n      <td>Регион 7</td>\n      <td>Область 4</td>\n    </tr>\n    <tr>\n      <th>...</th>\n      <td>...</td>\n      <td>...</td>\n      <td>...</td>\n      <td>...</td>\n      <td>...</td>\n      <td>...</td>\n      <td>...</td>\n      <td>...</td>\n      <td>...</td>\n    </tr>\n    <tr>\n      <th>1268</th>\n      <td>D1254EE75E94D92A2B456AA8F29BA9DE</td>\n      <td>Дивизион 2</td>\n      <td>Город 17</td>\n      <td>Филиал 84</td>\n      <td>Формат ТТ 3</td>\n      <td>Торговая сеть 726</td>\n      <td>INDIRECT</td>\n      <td>Регион 7</td>\n      <td>Область 9</td>\n    </tr>\n    <tr>\n      <th>1269</th>\n      <td>B98406DC1322BE399E982D38E28AE2D1</td>\n      <td>Дивизион 2</td>\n      <td>Город 17</td>\n      <td>Филиал 84</td>\n      <td>Формат ТТ 3</td>\n      <td>Торговая сеть 726</td>\n      <td>INDIRECT</td>\n      <td>Регион 7</td>\n      <td>Область 9</td>\n    </tr>\n    <tr>\n      <th>1270</th>\n      <td>8BDD4F8D14144D7218B3CCC9C44616DC</td>\n      <td>Дивизион 5</td>\n      <td>Город 24</td>\n      <td>Филиал 103</td>\n      <td>Формат ТТ 3</td>\n      <td>Торговая сеть 728</td>\n      <td>INDIRECT</td>\n      <td>Регион 4</td>\n      <td>Область 13</td>\n    </tr>\n    <tr>\n      <th>1271</th>\n      <td>2579A834889B701006A94BA046ADEABF</td>\n      <td>Дивизион 5</td>\n      <td>Город 24</td>\n      <td>Филиал 103</td>\n      <td>Формат ТТ 3</td>\n      <td>Торговая сеть 728</td>\n      <td>INDIRECT</td>\n      <td>Регион 4</td>\n      <td>Область 13</td>\n    </tr>\n    <tr>\n      <th>1272</th>\n      <td>EB5A9EA6B2AA4ED53468C966C0C0907E</td>\n      <td>Дивизион 6</td>\n      <td>Город 10</td>\n      <td>Филиал 167</td>\n      <td>Формат ТТ 3</td>\n      <td>Торговая сеть 730</td>\n      <td>INDIRECT</td>\n      <td>Регион 3</td>\n      <td>Область 5</td>\n    </tr>\n  </tbody>\n</table>\n<p>1273 rows × 9 columns</p>\n</div>"
     },
     "execution_count": 29,
     "metadata": {},
     "output_type": "execute_result"
    }
   ],
   "source": [
    "MD_CUSTOMERS"
   ]
  },
  {
   "cell_type": "markdown",
   "metadata": {},
   "source": [
    "### Витирина\n",
    " Витрина представлена как таблицы all_sales и sku_sales <br>\n",
    " sku_sales - таблица содержащая количество активных точек и объемы продаж по всем продуктам.<br>\n",
    " all_sales - таблица содержащая количество активных точек и объем продаж по всем территориальным единицам."
   ]
  },
  {
   "cell_type": "code",
   "execution_count": 30,
   "metadata": {},
   "outputs": [],
   "source": [
    "sku_sales = pd.read_sql(\"SELECT * from sku_sales\", content)\n",
    "all_sales = pd.read_sql(\"SELECT * from all_sales\", content)"
   ]
  },
  {
   "cell_type": "code",
   "execution_count": 31,
   "metadata": {},
   "outputs": [
    {
     "data": {
      "text/plain": "      SALES_DISTRICT SALES_OFFICE SALES_GROUP TERR_LVL2   TERR_LVL3  \\\n0         Дивизион 2     Город 11  Филиал 122  Регион 7   Область 3   \n1         Дивизион 2     Город 11  Филиал 122  Регион 7   Область 3   \n2         Дивизион 2     Город 11  Филиал 122  Регион 7   Область 3   \n3         Дивизион 2     Город 11  Филиал 122  Регион 7   Область 3   \n4         Дивизион 2     Город 11  Филиал 122  Регион 7   Область 3   \n...              ...          ...         ...       ...         ...   \n31926     Дивизион 8      Город 7   Филиал 79  Регион 2  Область 21   \n31927     Дивизион 8      Город 7   Филиал 79  Регион 2  Область 21   \n31928     Дивизион 8      Город 7   Филиал 79  Регион 2  Область 21   \n31929     Дивизион 8      Город 7   Филиал 79  Регион 2  Область 21   \n31930     Дивизион 8      Город 7   Филиал 79  Регион 2  Область 21   \n\n                                    SKU  SKUVAL       SKUVOL  \n0      019675DC4388481A22E3B26E52AB0049      11     48.98400  \n1      0219CC78D456019EDB2FF06DDFD4FB6E       9     71.84320  \n2      021D9026DAC687868287E514C3BFD2BD       3     17.89800  \n3      02B90701612E92D91D4F7F367CD52A6A      50   6916.01328  \n4      02F67F20D3E7CFB0AB7F15DF72C65A9A     112  18897.00984  \n...                                 ...     ...          ...  \n31926  FEE75B05309B665FB5A6EC3B56DDA5E1      19     84.78000  \n31927  FEF046C8338382959ADB6AAA90B51D2D       7     45.21600  \n31928  FEF6877671F3E7A8F4428114C5FEF1D8       7     17.58400  \n31929  FF1D218CB29C3B93378E14DD2B586987       5     19.59360  \n31930  FF54819AAF017B41F3EF54A286C67017       3     49.17240  \n\n[31931 rows x 8 columns]",
      "text/html": "<div>\n<style scoped>\n    .dataframe tbody tr th:only-of-type {\n        vertical-align: middle;\n    }\n\n    .dataframe tbody tr th {\n        vertical-align: top;\n    }\n\n    .dataframe thead th {\n        text-align: right;\n    }\n</style>\n<table border=\"1\" class=\"dataframe\">\n  <thead>\n    <tr style=\"text-align: right;\">\n      <th></th>\n      <th>SALES_DISTRICT</th>\n      <th>SALES_OFFICE</th>\n      <th>SALES_GROUP</th>\n      <th>TERR_LVL2</th>\n      <th>TERR_LVL3</th>\n      <th>SKU</th>\n      <th>SKUVAL</th>\n      <th>SKUVOL</th>\n    </tr>\n  </thead>\n  <tbody>\n    <tr>\n      <th>0</th>\n      <td>Дивизион 2</td>\n      <td>Город 11</td>\n      <td>Филиал 122</td>\n      <td>Регион 7</td>\n      <td>Область 3</td>\n      <td>019675DC4388481A22E3B26E52AB0049</td>\n      <td>11</td>\n      <td>48.98400</td>\n    </tr>\n    <tr>\n      <th>1</th>\n      <td>Дивизион 2</td>\n      <td>Город 11</td>\n      <td>Филиал 122</td>\n      <td>Регион 7</td>\n      <td>Область 3</td>\n      <td>0219CC78D456019EDB2FF06DDFD4FB6E</td>\n      <td>9</td>\n      <td>71.84320</td>\n    </tr>\n    <tr>\n      <th>2</th>\n      <td>Дивизион 2</td>\n      <td>Город 11</td>\n      <td>Филиал 122</td>\n      <td>Регион 7</td>\n      <td>Область 3</td>\n      <td>021D9026DAC687868287E514C3BFD2BD</td>\n      <td>3</td>\n      <td>17.89800</td>\n    </tr>\n    <tr>\n      <th>3</th>\n      <td>Дивизион 2</td>\n      <td>Город 11</td>\n      <td>Филиал 122</td>\n      <td>Регион 7</td>\n      <td>Область 3</td>\n      <td>02B90701612E92D91D4F7F367CD52A6A</td>\n      <td>50</td>\n      <td>6916.01328</td>\n    </tr>\n    <tr>\n      <th>4</th>\n      <td>Дивизион 2</td>\n      <td>Город 11</td>\n      <td>Филиал 122</td>\n      <td>Регион 7</td>\n      <td>Область 3</td>\n      <td>02F67F20D3E7CFB0AB7F15DF72C65A9A</td>\n      <td>112</td>\n      <td>18897.00984</td>\n    </tr>\n    <tr>\n      <th>...</th>\n      <td>...</td>\n      <td>...</td>\n      <td>...</td>\n      <td>...</td>\n      <td>...</td>\n      <td>...</td>\n      <td>...</td>\n      <td>...</td>\n    </tr>\n    <tr>\n      <th>31926</th>\n      <td>Дивизион 8</td>\n      <td>Город 7</td>\n      <td>Филиал 79</td>\n      <td>Регион 2</td>\n      <td>Область 21</td>\n      <td>FEE75B05309B665FB5A6EC3B56DDA5E1</td>\n      <td>19</td>\n      <td>84.78000</td>\n    </tr>\n    <tr>\n      <th>31927</th>\n      <td>Дивизион 8</td>\n      <td>Город 7</td>\n      <td>Филиал 79</td>\n      <td>Регион 2</td>\n      <td>Область 21</td>\n      <td>FEF046C8338382959ADB6AAA90B51D2D</td>\n      <td>7</td>\n      <td>45.21600</td>\n    </tr>\n    <tr>\n      <th>31928</th>\n      <td>Дивизион 8</td>\n      <td>Город 7</td>\n      <td>Филиал 79</td>\n      <td>Регион 2</td>\n      <td>Область 21</td>\n      <td>FEF6877671F3E7A8F4428114C5FEF1D8</td>\n      <td>7</td>\n      <td>17.58400</td>\n    </tr>\n    <tr>\n      <th>31929</th>\n      <td>Дивизион 8</td>\n      <td>Город 7</td>\n      <td>Филиал 79</td>\n      <td>Регион 2</td>\n      <td>Область 21</td>\n      <td>FF1D218CB29C3B93378E14DD2B586987</td>\n      <td>5</td>\n      <td>19.59360</td>\n    </tr>\n    <tr>\n      <th>31930</th>\n      <td>Дивизион 8</td>\n      <td>Город 7</td>\n      <td>Филиал 79</td>\n      <td>Регион 2</td>\n      <td>Область 21</td>\n      <td>FF54819AAF017B41F3EF54A286C67017</td>\n      <td>3</td>\n      <td>49.17240</td>\n    </tr>\n  </tbody>\n</table>\n<p>31931 rows × 8 columns</p>\n</div>"
     },
     "execution_count": 31,
     "metadata": {},
     "output_type": "execute_result"
    }
   ],
   "source": [
    "sku_sales"
   ]
  },
  {
   "cell_type": "code",
   "execution_count": 32,
   "metadata": {},
   "outputs": [
    {
     "data": {
      "text/plain": "   SALES_DISTRICT SALES_OFFICE SALES_GROUP TERR_LVL2   TERR_LVL3  ALVAL  \\\n0      Дивизион 2     Город 11  Филиал 122  Регион 7   Область 3   9222   \n1      Дивизион 2     Город 14  Филиал 108  Регион 7   Область 4   1991   \n2      Дивизион 2     Город 14  Филиал 136  Регион 7   Область 4    849   \n3      Дивизион 2     Город 14  Филиал 137  Регион 7   Область 4   4689   \n4      Дивизион 2     Город 14  Филиал 138  Регион 7   Область 4   8900   \n..            ...          ...         ...       ...         ...    ...   \n85     Дивизион 8     Город 13   Филиал 34  Регион 2  Область 21  29456   \n86     Дивизион 8      Город 7  Филиал 112  Регион 2  Область 21   4997   \n87     Дивизион 8      Город 7  Филиал 113  Регион 2  Область 21   2603   \n88     Дивизион 8      Город 7   Филиал 69  Регион 2  Область 21   3965   \n89     Дивизион 8      Город 7   Филиал 79  Регион 2  Область 21   4962   \n\n           ALVOL  \n0   5.839074e+05  \n1   4.035155e+05  \n2   1.580725e+04  \n3   1.468042e+06  \n4   1.427839e+06  \n..           ...  \n85  1.038668e+06  \n86  2.131334e+05  \n87  6.757217e+04  \n88  3.368919e+04  \n89  1.767236e+05  \n\n[90 rows x 7 columns]",
      "text/html": "<div>\n<style scoped>\n    .dataframe tbody tr th:only-of-type {\n        vertical-align: middle;\n    }\n\n    .dataframe tbody tr th {\n        vertical-align: top;\n    }\n\n    .dataframe thead th {\n        text-align: right;\n    }\n</style>\n<table border=\"1\" class=\"dataframe\">\n  <thead>\n    <tr style=\"text-align: right;\">\n      <th></th>\n      <th>SALES_DISTRICT</th>\n      <th>SALES_OFFICE</th>\n      <th>SALES_GROUP</th>\n      <th>TERR_LVL2</th>\n      <th>TERR_LVL3</th>\n      <th>ALVAL</th>\n      <th>ALVOL</th>\n    </tr>\n  </thead>\n  <tbody>\n    <tr>\n      <th>0</th>\n      <td>Дивизион 2</td>\n      <td>Город 11</td>\n      <td>Филиал 122</td>\n      <td>Регион 7</td>\n      <td>Область 3</td>\n      <td>9222</td>\n      <td>5.839074e+05</td>\n    </tr>\n    <tr>\n      <th>1</th>\n      <td>Дивизион 2</td>\n      <td>Город 14</td>\n      <td>Филиал 108</td>\n      <td>Регион 7</td>\n      <td>Область 4</td>\n      <td>1991</td>\n      <td>4.035155e+05</td>\n    </tr>\n    <tr>\n      <th>2</th>\n      <td>Дивизион 2</td>\n      <td>Город 14</td>\n      <td>Филиал 136</td>\n      <td>Регион 7</td>\n      <td>Область 4</td>\n      <td>849</td>\n      <td>1.580725e+04</td>\n    </tr>\n    <tr>\n      <th>3</th>\n      <td>Дивизион 2</td>\n      <td>Город 14</td>\n      <td>Филиал 137</td>\n      <td>Регион 7</td>\n      <td>Область 4</td>\n      <td>4689</td>\n      <td>1.468042e+06</td>\n    </tr>\n    <tr>\n      <th>4</th>\n      <td>Дивизион 2</td>\n      <td>Город 14</td>\n      <td>Филиал 138</td>\n      <td>Регион 7</td>\n      <td>Область 4</td>\n      <td>8900</td>\n      <td>1.427839e+06</td>\n    </tr>\n    <tr>\n      <th>...</th>\n      <td>...</td>\n      <td>...</td>\n      <td>...</td>\n      <td>...</td>\n      <td>...</td>\n      <td>...</td>\n      <td>...</td>\n    </tr>\n    <tr>\n      <th>85</th>\n      <td>Дивизион 8</td>\n      <td>Город 13</td>\n      <td>Филиал 34</td>\n      <td>Регион 2</td>\n      <td>Область 21</td>\n      <td>29456</td>\n      <td>1.038668e+06</td>\n    </tr>\n    <tr>\n      <th>86</th>\n      <td>Дивизион 8</td>\n      <td>Город 7</td>\n      <td>Филиал 112</td>\n      <td>Регион 2</td>\n      <td>Область 21</td>\n      <td>4997</td>\n      <td>2.131334e+05</td>\n    </tr>\n    <tr>\n      <th>87</th>\n      <td>Дивизион 8</td>\n      <td>Город 7</td>\n      <td>Филиал 113</td>\n      <td>Регион 2</td>\n      <td>Область 21</td>\n      <td>2603</td>\n      <td>6.757217e+04</td>\n    </tr>\n    <tr>\n      <th>88</th>\n      <td>Дивизион 8</td>\n      <td>Город 7</td>\n      <td>Филиал 69</td>\n      <td>Регион 2</td>\n      <td>Область 21</td>\n      <td>3965</td>\n      <td>3.368919e+04</td>\n    </tr>\n    <tr>\n      <th>89</th>\n      <td>Дивизион 8</td>\n      <td>Город 7</td>\n      <td>Филиал 79</td>\n      <td>Регион 2</td>\n      <td>Область 21</td>\n      <td>4962</td>\n      <td>1.767236e+05</td>\n    </tr>\n  </tbody>\n</table>\n<p>90 rows × 7 columns</p>\n</div>"
     },
     "execution_count": 32,
     "metadata": {},
     "output_type": "execute_result"
    }
   ],
   "source": [
    "all_sales"
   ]
  },
  {
   "cell_type": "markdown",
   "metadata": {},
   "source": [
    "### Функция для получения скрипта, который выдает разрез"
   ]
  },
  {
   "cell_type": "code",
   "execution_count": 33,
   "metadata": {},
   "outputs": [],
   "source": [
    "def generate_script(lvl, table_name):\n",
    "    script = \"DROP TABLE IF EXISTS \" + table_name + \";\"\\\n",
    "        \"CREATE TABLE \" + table_name + \" AS \" \\\n",
    "        \"SELECT \" \\\n",
    "        \"sku_sales.\" + lvl + \", \" \\\n",
    "        \"sku_sales.SKU, \" \\\n",
    "        \"(sum(sku_sales.SKUVOL)* 1.0 / sum(all_sales.ALVOL)) AS WD, \" \\\n",
    "        \"(sum(sku_sales.SKUVAL) * 1.0 / sum(all_sales.ALVAL))  AS ND \" \\\n",
    "        \"FROM sku_sales \" \\\n",
    "        \"JOIN all_sales ON sku_sales.\" + lvl + \" = all_sales.\" + lvl + \" \" \\\n",
    "        \"GROUP BY \" \\\n",
    "        \"sku_sales.\" + lvl + \", \" \\\n",
    "        \"sku_sales.SKU;\" \\\n",
    "        \"ALTER TABLE \"+ table_name +\" ADD \" \\\n",
    "        \"TEAM VARCHAR(32) DEFAULT 'team41' NOT NULL;\"\n",
    "    return script"
   ]
  },
  {
   "cell_type": "markdown",
   "metadata": {},
   "source": [
    "### Присвойте LVL имя столбца, по которому производится срез.\n",
    "#### Опционально: Присвойте SKU код продукта."
   ]
  },
  {
   "cell_type": "code",
   "execution_count": 34,
   "metadata": {},
   "outputs": [],
   "source": [
    "# example with required table TD_RES_ND_WD and TERR_LVL3\n",
    "\n",
    "NAME = \"TD_RES_ND_WD\"\n",
    "LVL = \"TERR_LVL3\"\n",
    "SKU = \"019675DC4388481A22E3B26E52AB0049\""
   ]
  },
  {
   "cell_type": "code",
   "execution_count": 35,
   "metadata": {},
   "outputs": [],
   "source": [
    "current.executescript(generate_script(LVL, NAME))\n",
    "\n",
    "new_SKU = \"\"\n",
    "if SKU != \"\":\n",
    "    new_SKU = \" WHERE SKU= \\\"\" + SKU + \"\\\";\"\n",
    "\n",
    "TD_RES_ND_WD = pd.read_sql(\"SELECT * from TD_RES_ND_WD\" + new_SKU, content)"
   ]
  },
  {
   "cell_type": "markdown",
   "metadata": {},
   "source": [
    "## Полученный срез"
   ]
  },
  {
   "cell_type": "code",
   "execution_count": 36,
   "metadata": {},
   "outputs": [
    {
     "data": {
      "text/plain": "     TERR_LVL3                               SKU        WD        ND    TEAM\n0   Область 10  019675DC4388481A22E3B26E52AB0049  0.000217  0.001232  team41\n1   Область 11  019675DC4388481A22E3B26E52AB0049  0.000280  0.000558  team41\n2   Область 12  019675DC4388481A22E3B26E52AB0049  0.001529  0.001447  team41\n3   Область 13  019675DC4388481A22E3B26E52AB0049  0.000235  0.000493  team41\n4   Область 14  019675DC4388481A22E3B26E52AB0049  0.000662  0.000678  team41\n5   Область 15  019675DC4388481A22E3B26E52AB0049  0.000063  0.000490  team41\n6   Область 16  019675DC4388481A22E3B26E52AB0049  0.000286  0.000948  team41\n7   Область 18  019675DC4388481A22E3B26E52AB0049  0.000342  0.001134  team41\n8   Область 19  019675DC4388481A22E3B26E52AB0049  0.000807  0.001557  team41\n9   Область 20  019675DC4388481A22E3B26E52AB0049  0.000012  0.000704  team41\n10  Область 21  019675DC4388481A22E3B26E52AB0049  0.000352  0.001087  team41\n11  Область 22  019675DC4388481A22E3B26E52AB0049  0.000222  0.001066  team41\n12  Область 23  019675DC4388481A22E3B26E52AB0049  0.000083  0.000238  team41\n13  Область 24  019675DC4388481A22E3B26E52AB0049  0.000218  0.000483  team41\n14  Область 25  019675DC4388481A22E3B26E52AB0049  0.000449  0.000892  team41\n15   Область 3  019675DC4388481A22E3B26E52AB0049  0.000067  0.001060  team41\n16   Область 4  019675DC4388481A22E3B26E52AB0049  0.000113  0.001008  team41\n17   Область 5  019675DC4388481A22E3B26E52AB0049  0.000040  0.000555  team41\n18   Область 7  019675DC4388481A22E3B26E52AB0049  0.000009  0.000181  team41\n19   Область 9  019675DC4388481A22E3B26E52AB0049  0.000228  0.000717  team41",
      "text/html": "<div>\n<style scoped>\n    .dataframe tbody tr th:only-of-type {\n        vertical-align: middle;\n    }\n\n    .dataframe tbody tr th {\n        vertical-align: top;\n    }\n\n    .dataframe thead th {\n        text-align: right;\n    }\n</style>\n<table border=\"1\" class=\"dataframe\">\n  <thead>\n    <tr style=\"text-align: right;\">\n      <th></th>\n      <th>TERR_LVL3</th>\n      <th>SKU</th>\n      <th>WD</th>\n      <th>ND</th>\n      <th>TEAM</th>\n    </tr>\n  </thead>\n  <tbody>\n    <tr>\n      <th>0</th>\n      <td>Область 10</td>\n      <td>019675DC4388481A22E3B26E52AB0049</td>\n      <td>0.000217</td>\n      <td>0.001232</td>\n      <td>team41</td>\n    </tr>\n    <tr>\n      <th>1</th>\n      <td>Область 11</td>\n      <td>019675DC4388481A22E3B26E52AB0049</td>\n      <td>0.000280</td>\n      <td>0.000558</td>\n      <td>team41</td>\n    </tr>\n    <tr>\n      <th>2</th>\n      <td>Область 12</td>\n      <td>019675DC4388481A22E3B26E52AB0049</td>\n      <td>0.001529</td>\n      <td>0.001447</td>\n      <td>team41</td>\n    </tr>\n    <tr>\n      <th>3</th>\n      <td>Область 13</td>\n      <td>019675DC4388481A22E3B26E52AB0049</td>\n      <td>0.000235</td>\n      <td>0.000493</td>\n      <td>team41</td>\n    </tr>\n    <tr>\n      <th>4</th>\n      <td>Область 14</td>\n      <td>019675DC4388481A22E3B26E52AB0049</td>\n      <td>0.000662</td>\n      <td>0.000678</td>\n      <td>team41</td>\n    </tr>\n    <tr>\n      <th>5</th>\n      <td>Область 15</td>\n      <td>019675DC4388481A22E3B26E52AB0049</td>\n      <td>0.000063</td>\n      <td>0.000490</td>\n      <td>team41</td>\n    </tr>\n    <tr>\n      <th>6</th>\n      <td>Область 16</td>\n      <td>019675DC4388481A22E3B26E52AB0049</td>\n      <td>0.000286</td>\n      <td>0.000948</td>\n      <td>team41</td>\n    </tr>\n    <tr>\n      <th>7</th>\n      <td>Область 18</td>\n      <td>019675DC4388481A22E3B26E52AB0049</td>\n      <td>0.000342</td>\n      <td>0.001134</td>\n      <td>team41</td>\n    </tr>\n    <tr>\n      <th>8</th>\n      <td>Область 19</td>\n      <td>019675DC4388481A22E3B26E52AB0049</td>\n      <td>0.000807</td>\n      <td>0.001557</td>\n      <td>team41</td>\n    </tr>\n    <tr>\n      <th>9</th>\n      <td>Область 20</td>\n      <td>019675DC4388481A22E3B26E52AB0049</td>\n      <td>0.000012</td>\n      <td>0.000704</td>\n      <td>team41</td>\n    </tr>\n    <tr>\n      <th>10</th>\n      <td>Область 21</td>\n      <td>019675DC4388481A22E3B26E52AB0049</td>\n      <td>0.000352</td>\n      <td>0.001087</td>\n      <td>team41</td>\n    </tr>\n    <tr>\n      <th>11</th>\n      <td>Область 22</td>\n      <td>019675DC4388481A22E3B26E52AB0049</td>\n      <td>0.000222</td>\n      <td>0.001066</td>\n      <td>team41</td>\n    </tr>\n    <tr>\n      <th>12</th>\n      <td>Область 23</td>\n      <td>019675DC4388481A22E3B26E52AB0049</td>\n      <td>0.000083</td>\n      <td>0.000238</td>\n      <td>team41</td>\n    </tr>\n    <tr>\n      <th>13</th>\n      <td>Область 24</td>\n      <td>019675DC4388481A22E3B26E52AB0049</td>\n      <td>0.000218</td>\n      <td>0.000483</td>\n      <td>team41</td>\n    </tr>\n    <tr>\n      <th>14</th>\n      <td>Область 25</td>\n      <td>019675DC4388481A22E3B26E52AB0049</td>\n      <td>0.000449</td>\n      <td>0.000892</td>\n      <td>team41</td>\n    </tr>\n    <tr>\n      <th>15</th>\n      <td>Область 3</td>\n      <td>019675DC4388481A22E3B26E52AB0049</td>\n      <td>0.000067</td>\n      <td>0.001060</td>\n      <td>team41</td>\n    </tr>\n    <tr>\n      <th>16</th>\n      <td>Область 4</td>\n      <td>019675DC4388481A22E3B26E52AB0049</td>\n      <td>0.000113</td>\n      <td>0.001008</td>\n      <td>team41</td>\n    </tr>\n    <tr>\n      <th>17</th>\n      <td>Область 5</td>\n      <td>019675DC4388481A22E3B26E52AB0049</td>\n      <td>0.000040</td>\n      <td>0.000555</td>\n      <td>team41</td>\n    </tr>\n    <tr>\n      <th>18</th>\n      <td>Область 7</td>\n      <td>019675DC4388481A22E3B26E52AB0049</td>\n      <td>0.000009</td>\n      <td>0.000181</td>\n      <td>team41</td>\n    </tr>\n    <tr>\n      <th>19</th>\n      <td>Область 9</td>\n      <td>019675DC4388481A22E3B26E52AB0049</td>\n      <td>0.000228</td>\n      <td>0.000717</td>\n      <td>team41</td>\n    </tr>\n  </tbody>\n</table>\n</div>"
     },
     "execution_count": 36,
     "metadata": {},
     "output_type": "execute_result"
    }
   ],
   "source": [
    "TD_RES_ND_WD"
   ]
  },
  {
   "cell_type": "markdown",
   "source": [
    "# П"
   ],
   "metadata": {
    "collapsed": false,
    "pycharm": {
     "name": "#%% md\n"
    }
   }
  }
 ],
 "metadata": {
  "kernelspec": {
   "display_name": "Python 3",
   "language": "python",
   "name": "python3"
  },
  "language_info": {
   "codemirror_mode": {
    "name": "ipython",
    "version": 3
   },
   "file_extension": ".py",
   "mimetype": "text/x-python",
   "name": "python",
   "nbconvert_exporter": "python",
   "pygments_lexer": "ipython3",
   "version": "3.7.6"
  }
 },
 "nbformat": 4,
 "nbformat_minor": 4
}